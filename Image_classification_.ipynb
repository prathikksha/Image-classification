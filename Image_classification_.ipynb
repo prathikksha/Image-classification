{
  "nbformat": 4,
  "nbformat_minor": 0,
  "metadata": {
    "colab": {
      "name": "Image classification-.ipynb",
      "provenance": [],
      "collapsed_sections": [],
      "authorship_tag": "ABX9TyMa3bpEky/7YQJr5OGYBdV4",
      "include_colab_link": true
    },
    "kernelspec": {
      "name": "python3",
      "display_name": "Python 3"
    },
    "language_info": {
      "name": "python"
    }
  },
  "cells": [
    {
      "cell_type": "markdown",
      "metadata": {
        "id": "view-in-github",
        "colab_type": "text"
      },
      "source": [
        "<a href=\"https://colab.research.google.com/github/prathikksha/Image-classification/blob/main/Image_classification_.ipynb\" target=\"_parent\"><img src=\"https://colab.research.google.com/assets/colab-badge.svg\" alt=\"Open In Colab\"/></a>"
      ]
    },
    {
      "cell_type": "code",
      "metadata": {
        "id": "BeXZSXsW2T33"
      },
      "source": [
        "#data: Images\n",
        "#use python to scrape images from bing\n"
      ],
      "execution_count": null,
      "outputs": []
    },
    {
      "cell_type": "code",
      "metadata": {
        "colab": {
          "base_uri": "https://localhost:8080/"
        },
        "id": "i5z0Gn0yDqCk",
        "outputId": "c9edff0c-cf0e-4b38-e155-9439e3b755e8"
      },
      "source": [
        "!pip install ipython-autotime\n",
        "%load_ext autotime"
      ],
      "execution_count": 7,
      "outputs": [
        {
          "output_type": "stream",
          "text": [
            "Collecting ipython-autotime\n",
            "  Downloading https://files.pythonhosted.org/packages/b4/c9/b413a24f759641bc27ef98c144b590023c8038dfb8a3f09e713e9dff12c1/ipython_autotime-0.3.1-py2.py3-none-any.whl\n",
            "Requirement already satisfied: ipython in /usr/local/lib/python3.7/dist-packages (from ipython-autotime) (5.5.0)\n",
            "Requirement already satisfied: prompt-toolkit<2.0.0,>=1.0.4 in /usr/local/lib/python3.7/dist-packages (from ipython->ipython-autotime) (1.0.18)\n",
            "Requirement already satisfied: setuptools>=18.5 in /usr/local/lib/python3.7/dist-packages (from ipython->ipython-autotime) (56.1.0)\n",
            "Requirement already satisfied: decorator in /usr/local/lib/python3.7/dist-packages (from ipython->ipython-autotime) (4.4.2)\n",
            "Requirement already satisfied: pickleshare in /usr/local/lib/python3.7/dist-packages (from ipython->ipython-autotime) (0.7.5)\n",
            "Requirement already satisfied: simplegeneric>0.8 in /usr/local/lib/python3.7/dist-packages (from ipython->ipython-autotime) (0.8.1)\n",
            "Requirement already satisfied: pygments in /usr/local/lib/python3.7/dist-packages (from ipython->ipython-autotime) (2.6.1)\n",
            "Requirement already satisfied: traitlets>=4.2 in /usr/local/lib/python3.7/dist-packages (from ipython->ipython-autotime) (5.0.5)\n",
            "Requirement already satisfied: pexpect; sys_platform != \"win32\" in /usr/local/lib/python3.7/dist-packages (from ipython->ipython-autotime) (4.8.0)\n",
            "Requirement already satisfied: wcwidth in /usr/local/lib/python3.7/dist-packages (from prompt-toolkit<2.0.0,>=1.0.4->ipython->ipython-autotime) (0.2.5)\n",
            "Requirement already satisfied: six>=1.9.0 in /usr/local/lib/python3.7/dist-packages (from prompt-toolkit<2.0.0,>=1.0.4->ipython->ipython-autotime) (1.15.0)\n",
            "Requirement already satisfied: ipython-genutils in /usr/local/lib/python3.7/dist-packages (from traitlets>=4.2->ipython->ipython-autotime) (0.2.0)\n",
            "Requirement already satisfied: ptyprocess>=0.5 in /usr/local/lib/python3.7/dist-packages (from pexpect; sys_platform != \"win32\"->ipython->ipython-autotime) (0.7.0)\n",
            "Installing collected packages: ipython-autotime\n",
            "Successfully installed ipython-autotime-0.3.1\n",
            "time: 210 µs (started: 2021-05-19 09:57:50 +00:00)\n"
          ],
          "name": "stdout"
        }
      ]
    },
    {
      "cell_type": "code",
      "metadata": {
        "colab": {
          "base_uri": "https://localhost:8080/"
        },
        "id": "_8eyc6M94iDq",
        "outputId": "7b10cfbc-12d6-4bd8-dacf-3a25c38e521c"
      },
      "source": [
        "!pip install bing-image-downloader"
      ],
      "execution_count": 1,
      "outputs": [
        {
          "output_type": "stream",
          "text": [
            "Collecting bing-image-downloader\n",
            "  Downloading https://files.pythonhosted.org/packages/0d/bf/537a61030b84ae4cd5022d5c7b014fd9bc3ce7c02358919153a6658a61d3/bing_image_downloader-1.0.4-py3-none-any.whl\n",
            "Installing collected packages: bing-image-downloader\n",
            "Successfully installed bing-image-downloader-1.0.4\n"
          ],
          "name": "stdout"
        }
      ]
    },
    {
      "cell_type": "code",
      "metadata": {
        "id": "m0hRGo-04wCs"
      },
      "source": [
        "!mkdir images "
      ],
      "execution_count": 2,
      "outputs": []
    },
    {
      "cell_type": "code",
      "metadata": {
        "colab": {
          "base_uri": "https://localhost:8080/"
        },
        "id": "SpjkPaWMAgi1",
        "outputId": "f0246fb9-5c6d-4ff3-d4dd-fcd50b9f1120"
      },
      "source": [
        "from bing_image_downloader import downloader\n",
        "downloader.download(\"cute dog\",limit=30,output_dir='images',adult_filter_off=True)"
      ],
      "execution_count": 3,
      "outputs": [
        {
          "output_type": "stream",
          "text": [
            "\n",
            "\n",
            "[!!]Indexing page: 1\n",
            "\n",
            "[%] Indexed 11 Images on Page 1.\n",
            "\n",
            "===============================================\n",
            "\n",
            "[%] Downloading Image #1 from https://www.recreoviral.com/wp-content/uploads/2015/08/Fotografías-de-perros-con-sus-cachorros-14.jpg\n",
            "[!] Issue getting: https://www.recreoviral.com/wp-content/uploads/2015/08/Fotografías-de-perros-con-sus-cachorros-14.jpg\n",
            "[!] Error:: 'ascii' codec can't encode character '\\xed' in position 40: ordinal not in range(128)\n",
            "[%] Downloading Image #1 from https://buzzsharer.com/wp-content/uploads/2015/04/beautiful-duchshund.jpg\n",
            "[%] File Downloaded !\n",
            "\n",
            "[%] Downloading Image #2 from http://www.barnorama.com/wp-content/galleries/01/chewbacca/13.jpg\n",
            "[%] File Downloaded !\n",
            "\n",
            "[%] Downloading Image #3 from https://wallpapershome.com/images/wallpapers/puppy-2160x3840-kitten-funny-animals-5k-15330.jpg\n",
            "[%] File Downloaded !\n",
            "\n",
            "[%] Downloading Image #4 from https://hative.com/wp-content/uploads/2014/10/cool-pet-costumes/9-cool-pet-costumes.jpg\n",
            "[%] File Downloaded !\n",
            "\n",
            "[%] Downloading Image #5 from https://www.heartsofpets.com/wp-content/uploads/2017/07/cuted8.jpg\n",
            "[%] File Downloaded !\n",
            "\n",
            "[%] Downloading Image #6 from http://www.candogseat-this.com/wp-content/uploads/2014/11/thanksgiving-doggies.jpg\n",
            "[%] File Downloaded !\n",
            "\n",
            "[%] Downloading Image #7 from http://bestanimations.com/Animals/Mammals/Dogs/pugs/funny-cute-animated-pug-gif-31.gif\n",
            "[%] File Downloaded !\n",
            "\n",
            "[%] Downloading Image #8 from https://www.bing.com/th/id/OGC.cea4317b486a7e0b2d09aa0e61cbe828?pid=1.7&amp;rurl=http%3a%2f%2fbestanimations.com%2fAnimals%2fMammals%2fDogs%2fpugs%2ffunny-cute-animated-pug-gif-31.gif&amp;ehk=iMf7We2py9%2bkp%2bjexLeHTlHt4SjIMM88ayImjz8G000%3d\n",
            "[!] Issue getting: https://www.bing.com/th/id/OGC.cea4317b486a7e0b2d09aa0e61cbe828?pid=1.7&amp;rurl=http%3a%2f%2fbestanimations.com%2fAnimals%2fMammals%2fDogs%2fpugs%2ffunny-cute-animated-pug-gif-31.gif&amp;ehk=iMf7We2py9%2bkp%2bjexLeHTlHt4SjIMM88ayImjz8G000%3d\n",
            "[!] Error:: HTTP Error 404: Not Found\n",
            "[%] Downloading Image #8 from http://www.luvbat.com/uploads/cute_kangaroos_hugging__7418492306.jpg\n",
            "[%] File Downloaded !\n",
            "\n",
            "[%] Downloading Image #9 from http://www.insidedogsworld.com/wp-content/uploads/2016/12/bullterrier3.jpg\n",
            "[%] File Downloaded !\n",
            "\n",
            "\n",
            "\n",
            "[!!]Indexing page: 2\n",
            "\n",
            "[%] Indexed 10 Images on Page 2.\n",
            "\n",
            "===============================================\n",
            "\n",
            "[%] Downloading Image #10 from https://www.dogbreedslist.info/dog-wallpapers/Golden-Retriever-puppy-cute-paws-360x640.jpg\n",
            "[%] File Downloaded !\n",
            "\n",
            "[%] Downloading Image #11 from http://img.izismile.com/img/img6/20130709/640/these_funny_animals_1244_640_10.jpg\n",
            "[%] File Downloaded !\n",
            "\n",
            "[%] Downloading Image #12 from https://hative.com/wp-content/uploads/2014/10/cool-pet-costumes/8-cool-pet-costumes.jpg\n",
            "[%] File Downloaded !\n",
            "\n",
            "[%] Downloading Image #13 from https://www.topinspired.com/wp-content/uploads/2014/09/chihuaua.jpg\n",
            "[%] File Downloaded !\n",
            "\n",
            "[%] Downloading Image #14 from http://wanna-joke.com/wp-content/uploads/2014/04/funny-picture-girl-car-dog-scared.jpg\n",
            "[%] File Downloaded !\n",
            "\n",
            "[%] Downloading Image #15 from https://wallpapershome.com/images/wallpapers/dog-3840x2160-funny-animals-4k-18844.jpg\n",
            "[%] File Downloaded !\n",
            "\n",
            "[%] Downloading Image #16 from https://www.germanshepherds.com/forum/attachments/general-puppy-stuff/456690d1509727452-car-ride-chillin-4fb4a772-8efd-4909-a754-44962ea174f3_1509727451754.jpg\n",
            "[%] File Downloaded !\n",
            "\n",
            "[%] Downloading Image #17 from https://wanna-joke.com/wp-content/uploads/2014/12/funny-dog-standing-kitchen-woman-window.jpg\n",
            "[%] File Downloaded !\n",
            "\n",
            "[%] Downloading Image #18 from https://www.animals-zone.com/wp-content/uploads/2014/04/laughing-dog.jpg\n",
            "[%] File Downloaded !\n",
            "\n",
            "[%] Downloading Image #19 from https://www.top13.net/wp-content/uploads/2015/11/dog-pictures-taken-at-the-right-time-4.jpg\n",
            "[%] File Downloaded !\n",
            "\n",
            "\n",
            "\n",
            "[!!]Indexing page: 3\n",
            "\n",
            "[%] Indexed 9 Images on Page 3.\n",
            "\n",
            "===============================================\n",
            "\n",
            "[%] Downloading Image #20 from https://hative.com/wp-content/uploads/2014/10/cool-pet-costumes/9-cool-pet-costumes.jpg\n",
            "[%] File Downloaded !\n",
            "\n",
            "[%] Downloading Image #21 from https://breakbrunch.com/wp-content/uploads/2019/08/sexy-cosplay-by-rockys-light-070719-3.jpg\n",
            "[%] File Downloaded !\n",
            "\n",
            "[%] Downloading Image #22 from http://funny-pictures.funmunch.com/pictures/Dressed-Up-For-Christmas.jpg\n",
            "[%] File Downloaded !\n",
            "\n",
            "[%] Downloading Image #23 from https://www.animals-zone.com/wp-content/uploads/2014/04/angry-cat.jpg\n",
            "[%] File Downloaded !\n",
            "\n",
            "[%] Downloading Image #24 from http://www.animals-zone.com/wp-content/uploads/2014/04/laughing-dog.jpg\n",
            "[%] File Downloaded !\n",
            "\n",
            "[%] Downloading Image #25 from http://purrtacular.com/wp-content/uploads/2016/08/fluffy-cats-06.jpg\n",
            "[%] File Downloaded !\n",
            "\n",
            "[%] Downloading Image #26 from http://www.luvbat.com/uploads/cute_bunny_rabbit_with_a_mohican_1079640612.jpg\n",
            "[%] File Downloaded !\n",
            "\n",
            "[%] Downloading Image #27 from https://ratses.gr/sites/default/files/beagle-puppy-wants-to-go-for-a-walk[1]_0.jpg\n",
            "[%] File Downloaded !\n",
            "\n",
            "[%] Downloading Image #28 from http://www.pleated-jeans.com/wp-content/uploads/2014/01/weird-Selfie-humor-photography-dog10-1.jpg\n",
            "[%] File Downloaded !\n",
            "\n",
            "\n",
            "\n",
            "[!!]Indexing page: 4\n",
            "\n",
            "[%] Indexed 8 Images on Page 4.\n",
            "\n",
            "===============================================\n",
            "\n",
            "[%] Downloading Image #29 from http://www.seenox.org/wp-content/uploads/2014/03/Naughty-Dogs-20.jpg\n",
            "[%] File Downloaded !\n",
            "\n",
            "[%] Downloading Image #30 from http://www.candogseat-this.com/wp-content/uploads/2014/11/thanksgiving-dog.jpg\n",
            "[%] File Downloaded !\n",
            "\n",
            "\n",
            "\n",
            "[%] Done. Downloaded 30 images.\n",
            "\n",
            "===============================================\n",
            "\n"
          ],
          "name": "stdout"
        }
      ]
    },
    {
      "cell_type": "code",
      "metadata": {
        "colab": {
          "base_uri": "https://localhost:8080/"
        },
        "id": "8F8aUPrRC28X",
        "outputId": "fecf5ead-5452-48cb-8ffb-11eda65bfcb3"
      },
      "source": [
        "from bing_image_downloader import downloader\n",
        "downloader.download(\"pretty sunflowers\",limit=30,output_dir='images',adult_filter_off=True)"
      ],
      "execution_count": 5,
      "outputs": [
        {
          "output_type": "stream",
          "text": [
            "\n",
            "\n",
            "[!!]Indexing page: 1\n",
            "\n",
            "[%] Indexed 11 Images on Page 1.\n",
            "\n",
            "===============================================\n",
            "\n",
            "[%] Downloading Image #1 from http://3.bp.blogspot.com/--ShcPhgDlI8/UfOJYMdoxMI/AAAAAAAAG_0/pkfkiw2YE88/s1600/beautiful+Sun+flower+(9).jpg\n",
            "[%] File Downloaded !\n",
            "\n",
            "[%] Downloading Image #2 from http://wohhwedding.com/wp-content/uploads/2016/05/Sunflower-Wedding-Cup-Cake-Decorating-Ideas.jpg\n",
            "[%] File Downloaded !\n",
            "\n",
            "[%] Downloading Image #3 from https://i.pinimg.com/736x/a8/0f/84/a80f847e6275945f8b86adc844a57cdc--field-of-sunflowers-beautiful-sunrise.jpg\n",
            "[%] File Downloaded !\n",
            "\n",
            "[%] Downloading Image #4 from http://www.tattoosbag.com/wp-content/uploads/2016/09/Sunflower-Tattoo-Shoulder-For-Women.jpg\n",
            "[%] File Downloaded !\n",
            "\n",
            "[%] Downloading Image #5 from http://wohhwedding.com/wp-content/uploads/2016/05/Country-Sunflower-Wedding-Decorations.jpg\n",
            "[%] File Downloaded !\n",
            "\n",
            "[%] Downloading Image #6 from http://i.123g.us/c/birth_flowers/card/331312.gif\n",
            "[%] File Downloaded !\n",
            "\n",
            "[%] Downloading Image #7 from https://www.bing.com/th/id/OGC.e769ff0243591682ba6b0832906c37ab?pid=1.7&amp;rurl=http%3a%2f%2fi.123g.us%2fc%2fbirth_flowers%2fcard%2f331312.gif&amp;ehk=goGxYlJOJRevUfiLeEYZMx9T8tHkT9A5icYTW7h3s64%3d\n",
            "[!] Issue getting: https://www.bing.com/th/id/OGC.e769ff0243591682ba6b0832906c37ab?pid=1.7&amp;rurl=http%3a%2f%2fi.123g.us%2fc%2fbirth_flowers%2fcard%2f331312.gif&amp;ehk=goGxYlJOJRevUfiLeEYZMx9T8tHkT9A5icYTW7h3s64%3d\n",
            "[!] Error:: HTTP Error 404: Not Found\n",
            "[%] Downloading Image #7 from http://greatinspire.com/wp-content/uploads/2016/08/Collection-Of-Beautiful-Flowers-6.jpg\n",
            "[%] File Downloaded !\n",
            "\n",
            "[%] Downloading Image #8 from http://www.wallpapers13.com/wp-content/uploads/2015/12/Pretty-Little-Pink-Flowers-HD-Wallpaper-1920x1080.jpg\n",
            "[%] File Downloaded !\n",
            "\n",
            "[%] Downloading Image #9 from https://i.pinimg.com/736x/fb/94/92/fb949282593ba2c727e138473547ebde--twitter-headers-wallpaper.jpg\n",
            "[%] File Downloaded !\n",
            "\n",
            "[%] Downloading Image #10 from https://thumbs.dreamstime.com/z/small-baby-sunflower-plants-14545886.jpg\n",
            "[%] File Downloaded !\n",
            "\n",
            "\n",
            "\n",
            "[!!]Indexing page: 2\n",
            "\n",
            "[%] Indexed 10 Images on Page 2.\n",
            "\n",
            "===============================================\n",
            "\n",
            "[%] Downloading Image #11 from https://media.phillyvoice.com/media/images/sunflower_090819.2e16d0ba.fill-1200x630-c0.jpg\n",
            "[%] File Downloaded !\n",
            "\n",
            "[%] Downloading Image #12 from https://i.pinimg.com/736x/49/7b/d5/497bd55f180f61f0eb1d49162b808fbd.jpg\n",
            "[%] File Downloaded !\n",
            "\n",
            "[%] Downloading Image #13 from https://www.hdwallpapers.in/download/pure_red_sunflowers-wide.jpg\n",
            "[%] File Downloaded !\n",
            "\n",
            "[%] Downloading Image #14 from https://66.media.tumblr.com/44d35612a2a7601c2f8c8d35cf820193/tumblr_nqalbc4ywM1rwrn5zo1_500.jpg\n",
            "[%] File Downloaded !\n",
            "\n",
            "[%] Downloading Image #15 from http://www.wallpapers13.com/wp-content/uploads/2015/12/A-sunflower-2560X1600-1440x900.jpg\n",
            "[%] File Downloaded !\n",
            "\n",
            "[%] Downloading Image #16 from http://www.prettydesigns.com/wp-content/uploads/2014/06/Green-Nails2.jpg\n",
            "[%] File Downloaded !\n",
            "\n",
            "[%] Downloading Image #17 from https://stayglam.com/wp-content/uploads/2018/08/Pretty-Sunflower-Tattoos.jpg\n",
            "[%] File Downloaded !\n",
            "\n",
            "[%] Downloading Image #18 from https://www.wildtattooart.com/wp-content/uploads/2017/03/sunflower-tattoos-19031721.jpg\n",
            "[%] File Downloaded !\n",
            "\n",
            "[%] Downloading Image #19 from https://i.pinimg.com/736x/09/80/ac/0980ac563d88b546bdf9ce93e0c54ccf--preschool-printables-preschool-crafts.jpg\n",
            "[%] File Downloaded !\n",
            "\n",
            "[%] Downloading Image #20 from https://4kwallpapers.com/images/wallpapers/chino-kafuu-anime-girl-cute-spring-1242x2208-2537.jpg\n",
            "[%] File Downloaded !\n",
            "\n",
            "\n",
            "\n",
            "[!!]Indexing page: 3\n",
            "\n",
            "[%] Indexed 9 Images on Page 3.\n",
            "\n",
            "===============================================\n",
            "\n",
            "[%] Downloading Image #21 from https://i.pinimg.com/736x/49/7b/d5/497bd55f180f61f0eb1d49162b808fbd.jpg\n",
            "[%] File Downloaded !\n",
            "\n",
            "[%] Downloading Image #22 from https://www.hdwallpapers.in/download/pure_red_sunflowers-wide.jpg\n",
            "[%] File Downloaded !\n",
            "\n",
            "[%] Downloading Image #23 from https://66.media.tumblr.com/44d35612a2a7601c2f8c8d35cf820193/tumblr_nqalbc4ywM1rwrn5zo1_500.jpg\n",
            "[%] File Downloaded !\n",
            "\n",
            "[%] Downloading Image #24 from http://www.wallpapers13.com/wp-content/uploads/2015/12/A-sunflower-2560X1600-1440x900.jpg\n",
            "[%] File Downloaded !\n",
            "\n",
            "[%] Downloading Image #25 from http://www.prettydesigns.com/wp-content/uploads/2014/06/Green-Nails2.jpg\n",
            "[%] File Downloaded !\n",
            "\n",
            "[%] Downloading Image #26 from https://stayglam.com/wp-content/uploads/2018/08/Pretty-Sunflower-Tattoos.jpg\n",
            "[%] File Downloaded !\n",
            "\n",
            "[%] Downloading Image #27 from https://www.wildtattooart.com/wp-content/uploads/2017/03/sunflower-tattoos-19031721.jpg\n",
            "[%] File Downloaded !\n",
            "\n",
            "[%] Downloading Image #28 from https://i.pinimg.com/736x/09/80/ac/0980ac563d88b546bdf9ce93e0c54ccf--preschool-printables-preschool-crafts.jpg\n",
            "[%] File Downloaded !\n",
            "\n",
            "[%] Downloading Image #29 from https://4kwallpapers.com/images/wallpapers/chino-kafuu-anime-girl-cute-spring-1242x2208-2537.jpg\n",
            "[%] File Downloaded !\n",
            "\n",
            "\n",
            "\n",
            "[!!]Indexing page: 4\n",
            "\n",
            "[%] Indexed 9 Images on Page 4.\n",
            "\n",
            "===============================================\n",
            "\n",
            "[%] Downloading Image #30 from http://wohhwedding.com/wp-content/uploads/2016/05/Country-Sunflower-Wedding-Decorations.jpg\n",
            "[%] File Downloaded !\n",
            "\n",
            "\n",
            "\n",
            "[%] Done. Downloaded 30 images.\n",
            "\n",
            "===============================================\n",
            "\n"
          ],
          "name": "stdout"
        }
      ]
    },
    {
      "cell_type": "code",
      "metadata": {
        "colab": {
          "base_uri": "https://localhost:8080/"
        },
        "id": "P-99S5yBEECq",
        "outputId": "a8206ce8-7147-4f17-d18d-7b31e47aa16a"
      },
      "source": [
        "#preprocessing\n",
        "\n",
        "import os #to move from one folder to another\n",
        "import matplotlib.pyplot as plt #displaying the image\n",
        "import numpy as np #numerical computing\n",
        "from skimage.io import imread #reading the image\n",
        "from skimage.transform import resize #resize the image\n",
        "\n",
        "target = [] #for output\n",
        "images = []\n",
        "flat_data = []\n",
        "\n",
        "DATADIR = '/content/images'\n",
        "CATEGORIES = ['cute dog','pretty sunflowers']\n",
        "\n",
        "for category in CATEGORIES:\n",
        "  class_num = CATEGORIES.index(category) #label encoding the values\n",
        "  path = os.path.join(DATADIR,category) #create path to use the images\n",
        "  #print(path)\n",
        "  for img in os.listdir(path):\n",
        "    img_array = imread(os.path.join(path,img))\n",
        "    #print(img_array.shape)\n",
        "    #plt.imshow(img_array)\n",
        "    img_resize = resize(img_array,(150,150,3))  #resize image #normalises the pixel values from 0-1\n",
        "    flat_data.append(img_resize.flatten()) #flatten image\n",
        "    images.append(img_resize)\n",
        "    target.append(class_num)\n",
        "\n",
        "flat_data = np.array(flat_data)\n",
        "target = np.array(target)\n",
        "images = np.array(images) \n",
        "\n",
        "#split data into Training and testing\n",
        "from sklearn.model_selection import train_test_split\n",
        "x_train,x_test,y_train,y_test = train_test_split(flat_data,target,test_size=0.2,random_state=109)\n",
        "\n",
        "#split data into Training and testing\n",
        "from sklearn.model_selection import GridSearchCV\n",
        "from sklearn import svm\n",
        "param_grid = [\n",
        "              {'C':[1,10,100,1000], 'kernel':['linear']},\n",
        "              {'C':[1,10,100,1000], 'gamma':[0.001,0.0001],'kernel':['rbf']},\n",
        "]\n",
        "svc = svm.SVC(probability=True)\n",
        "clf = GridSearchCV(svc,param_grid)\n",
        "clf.fit(x_train,y_train)"
      ],
      "execution_count": 14,
      "outputs": [
        {
          "output_type": "execute_result",
          "data": {
            "text/plain": [
              "GridSearchCV(cv=None, error_score=nan,\n",
              "             estimator=SVC(C=1.0, break_ties=False, cache_size=200,\n",
              "                           class_weight=None, coef0=0.0,\n",
              "                           decision_function_shape='ovr', degree=3,\n",
              "                           gamma='scale', kernel='rbf', max_iter=-1,\n",
              "                           probability=True, random_state=None, shrinking=True,\n",
              "                           tol=0.001, verbose=False),\n",
              "             iid='deprecated', n_jobs=None,\n",
              "             param_grid=[{'C': [1, 10, 100, 1000], 'kernel': ['linear']},\n",
              "                         {'C': [1, 10, 100, 1000], 'gamma': [0.001, 0.0001],\n",
              "                          'kernel': ['rbf']}],\n",
              "             pre_dispatch='2*n_jobs', refit=True, return_train_score=False,\n",
              "             scoring=None, verbose=0)"
            ]
          },
          "metadata": {
            "tags": []
          },
          "execution_count": 14
        }
      ]
    },
    {
      "cell_type": "code",
      "metadata": {
        "colab": {
          "base_uri": "https://localhost:8080/"
        },
        "id": "nUay53XUPwQU",
        "outputId": "17e1d20e-3986-4d08-bf08-8ca8dea7c54b"
      },
      "source": [
        "y_pred = clf.predict(x_test)\n",
        "y_pred"
      ],
      "execution_count": 15,
      "outputs": [
        {
          "output_type": "execute_result",
          "data": {
            "text/plain": [
              "array([0, 0, 0, 0, 1, 0, 0, 0, 0, 1, 1, 1])"
            ]
          },
          "metadata": {
            "tags": []
          },
          "execution_count": 15
        }
      ]
    },
    {
      "cell_type": "code",
      "metadata": {
        "colab": {
          "base_uri": "https://localhost:8080/"
        },
        "id": "WhphLj4iP8k6",
        "outputId": "b7bd60be-0975-49f1-dea8-d0f6b347fc3d"
      },
      "source": [
        "y_test"
      ],
      "execution_count": 16,
      "outputs": [
        {
          "output_type": "execute_result",
          "data": {
            "text/plain": [
              "array([0, 0, 0, 1, 0, 0, 1, 0, 0, 1, 1, 1])"
            ]
          },
          "metadata": {
            "tags": []
          },
          "execution_count": 16
        }
      ]
    },
    {
      "cell_type": "code",
      "metadata": {
        "colab": {
          "base_uri": "https://localhost:8080/"
        },
        "id": "kxFcNnNpP_Ee",
        "outputId": "ba27e89b-48e6-420b-d59a-5a811614d219"
      },
      "source": [
        "from sklearn.metrics import accuracy_score, confusion_matrix\n",
        "accuracy_score(y_pred,y_test)"
      ],
      "execution_count": 20,
      "outputs": [
        {
          "output_type": "execute_result",
          "data": {
            "text/plain": [
              "0.75"
            ]
          },
          "metadata": {
            "tags": []
          },
          "execution_count": 20
        }
      ]
    },
    {
      "cell_type": "code",
      "metadata": {
        "colab": {
          "base_uri": "https://localhost:8080/"
        },
        "id": "ER8vouUsQace",
        "outputId": "d19fc48b-0fc9-445a-d41a-dd963b7f86f7"
      },
      "source": [
        "confusion_matrix(y_pred,y_test)"
      ],
      "execution_count": 21,
      "outputs": [
        {
          "output_type": "execute_result",
          "data": {
            "text/plain": [
              "array([[6, 2],\n",
              "       [1, 3]])"
            ]
          },
          "metadata": {
            "tags": []
          },
          "execution_count": 21
        }
      ]
    },
    {
      "cell_type": "code",
      "metadata": {
        "id": "Fd0Ki-fGQn-3"
      },
      "source": [
        "import pickle\n",
        "pickle.dump(clf,open('img_model.p','wb'))"
      ],
      "execution_count": 23,
      "outputs": []
    },
    {
      "cell_type": "code",
      "metadata": {
        "id": "eYhps5lcQ6-s"
      },
      "source": [
        "model = pickle.load(open('img_model.p','rb'))"
      ],
      "execution_count": 24,
      "outputs": []
    },
    {
      "cell_type": "code",
      "metadata": {
        "colab": {
          "base_uri": "https://localhost:8080/",
          "height": 321
        },
        "id": "KkrqoDbmREx-",
        "outputId": "fc4bb35d-b1fc-4c58-997a-1ce03be6f06e"
      },
      "source": [
        "flat_data=[]\n",
        "url = input('Enter your URL')\n",
        "img = imread(url)\n",
        "img_resize = resize(img,(150,150,3))\n",
        "flat_data.append(img_resize.flatten())\n",
        "flat_data = np.array(flat_data)\n",
        "print(img.shape)\n",
        "plt.imshow(img_resize)\n",
        "y_out= model.predict(flat_data)\n",
        "y_out = CATEGORIES[y_out[0]]\n",
        "print(f' PREDICTED OUTPUT: {y_out}')"
      ],
      "execution_count": 32,
      "outputs": [
        {
          "output_type": "stream",
          "text": [
            "Enter your URLhttps://data.whicdn.com/images/329933730/original.jpg\n",
            "(920, 736, 3)\n",
            " PREDICTED OUTPUT: pretty sunflowers\n"
          ],
          "name": "stdout"
        },
        {
          "output_type": "display_data",
          "data": {
            "image/png": "[encoded data removed]",
            "text/plain": [
              "<Figure size 432x288 with 1 Axes>"
            ]
          },
          "metadata": {
            "tags": [],
            "needs_background": "light"
          }
        }
      ]
    }
  ]
}